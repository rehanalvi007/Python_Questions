{
 "cells": [
  {
   "cell_type": "markdown",
   "metadata": {},
   "source": [
    "###  Excercise 1: Swap the number without using third varible"
   ]
  },
  {
   "cell_type": "code",
   "execution_count": null,
   "metadata": {},
   "outputs": [],
   "source": [
    "def swap_2_numbers(x,y):\n",
    "    return y,x"
   ]
  },
  {
   "cell_type": "code",
   "execution_count": null,
   "metadata": {},
   "outputs": [],
   "source": [
    "swap_2_numbers(15,33)"
   ]
  },
  {
   "cell_type": "markdown",
   "metadata": {},
   "source": [
    " ## Exercise 2: Write a Program to extract each digit from an integer in the reverse order.\n",
    " ### For example, If the given int is 7536, the output shall be “6 3 5 7“, with a space separating the digits."
   ]
  },
  {
   "cell_type": "code",
   "execution_count": 2,
   "metadata": {},
   "outputs": [
    {
     "name": "stdout",
     "output_type": "stream",
     "text": [
      "8 7 6 5\n"
     ]
    }
   ],
   "source": [
    "# Taking input from the user\n",
    "number_input = input(\"Enter the number: \")\n",
    "\n",
    "# Reversing the input\n",
    "reversed_number = (number_input)[::-1]\n",
    "\n",
    "# Joining the reversed digits with space in between\n",
    "reversed_string = \" \".join(reversed_number)\n",
    "\n",
    "# Printing the reversed number with digits separated by space\n",
    "print(reversed_string)\n"
   ]
  },
  {
   "cell_type": "code",
   "execution_count": null,
   "metadata": {},
   "outputs": [],
   "source": [
    "n //=10\n",
    "n"
   ]
  },
  {
   "cell_type": "markdown",
   "metadata": {},
   "source": [
    " Excercise 3: Write a program that will reverse a four digit number.Also it checks whether the reverse\n",
    " "
   ]
  },
  {
   "cell_type": "code",
   "execution_count": null,
   "metadata": {},
   "outputs": [],
   "source": [
    "# input the number and covert into integer\n",
    "number = int(input(\"Enter the number :\"))\n",
    "# copy the number so that we can compare it with original open\n",
    "original_number = number\n",
    "# now extract each digit from the number_input\n",
    "digit4 = number % 10\n",
    "number //=10\n",
    "digit3 = number % 10\n",
    "number //=10\n",
    "digit2 = number % 10\n",
    "number//=10\n",
    "digit1 = number\n",
    "\n",
    "# Reverse the digits to form the reversed number\n",
    "reversed_number = digit4 * 1000 + digit3 * 100 + digit2 * 10 + digit1\n",
    "if reversed_number == original_number:\n",
    "    print(\"both are same\")\n",
    "else:\n",
    "    print(\"no similarity\")"
   ]
  },
  {
   "cell_type": "markdown",
   "metadata": {},
   "source": [
    "###  Excercise 3: Write a program that will give you the sum of 3 digits"
   ]
  },
  {
   "cell_type": "code",
   "execution_count": null,
   "metadata": {},
   "outputs": [],
   "source": [
    "def sum_3digit(number):\n",
    "    digit3 = number % 10\n",
    "    number //=10\n",
    "    digit2 = number%10\n",
    "    number//=10\n",
    "    digit1 = number\n",
    "    return digit1 + digit2+ digit3"
   ]
  },
  {
   "cell_type": "code",
   "execution_count": null,
   "metadata": {},
   "outputs": [],
   "source": [
    "sum_3digit(567)"
   ]
  },
  {
   "cell_type": "markdown",
   "metadata": {},
   "source": [
    "### Excercise 8: Write a program that will check whether the number is armstrong number or not"
   ]
  },
  {
   "cell_type": "code",
   "execution_count": null,
   "metadata": {},
   "outputs": [],
   "source": [
    "def check_armstrong(num):\n",
    "    count = len(str(num))\n",
    "    temp = num\n",
    "    check_list = 0\n",
    "    while temp > 0:\n",
    "        digit = temp % 10\n",
    "        check_list += digit ** count\n",
    "        temp //= 10\n",
    "    return check_list == num\n"
   ]
  },
  {
   "cell_type": "code",
   "execution_count": null,
   "metadata": {},
   "outputs": [],
   "source": [
    "check_armstrong(153)"
   ]
  },
  {
   "cell_type": "markdown",
   "metadata": {},
   "source": [
    "### Print all factors of a given number provided by the user."
   ]
  },
  {
   "cell_type": "code",
   "execution_count": 14,
   "metadata": {},
   "outputs": [],
   "source": [
    "def print_factors(num):\n",
    "    factors = []\n",
    "    for n in range(1,num+1):\n",
    "        if num%n ==0:\n",
    "            factors.append(n)\n",
    "    return factors"
   ]
  },
  {
   "cell_type": "code",
   "execution_count": 15,
   "metadata": {},
   "outputs": [
    {
     "data": {
      "text/plain": [
       "[1, 3, 5, 9, 15, 45]"
      ]
     },
     "execution_count": 15,
     "metadata": {},
     "output_type": "execute_result"
    }
   ],
   "source": [
    "print_factors(45)"
   ]
  },
  {
   "cell_type": "markdown",
   "metadata": {},
   "source": [
    "###  Accept a list of 5 float numbers as an input from the user"
   ]
  },
  {
   "cell_type": "code",
   "execution_count": 19,
   "metadata": {},
   "outputs": [
    {
     "name": "stdout",
     "output_type": "stream",
     "text": [
      "[6.8, 89.0, 6.0, 9.0, 5.0]\n"
     ]
    }
   ],
   "source": [
    "list_r = []\n",
    "while len(list_r)<5:\n",
    "    number = float(input(\"Enter the number\"))\n",
    "    list_r.append(number)\n",
    "print(list_r)"
   ]
  },
  {
   "cell_type": "markdown",
   "metadata": {},
   "source": [
    "###  User will provide 2 numbers you have to find the HCF of those 2 numbers\n"
   ]
  },
  {
   "cell_type": "code",
   "execution_count": null,
   "metadata": {},
   "outputs": [],
   "source": [
    "def find_HCF(num1,num2):\n",
    "    while num2:\n",
    "        num1 , num2 = num2,num1%num2\n",
    "    return num1\n",
    "def main():\n",
    "    try:\n",
    "        n1 = int(input(\"Enter the num1 : \"))\n",
    "        n2 = int(input(\"Enter the num2: \"))\n",
    "        hcf = find_HCF(n1,n2)\n",
    "        print(\"The HCF of\", n1, \"and\", n2, \"is:\", hcf)\n",
    "    except ValueError:\n",
    "        print(\"Invalid input. Please enter valid integers.\")\n",
    "if __name__ == \"__main__\":\n",
    "    main()   "
   ]
  },
  {
   "cell_type": "markdown",
   "metadata": {},
   "source": [
    "User will provide 2 numbers you have to find the by LCM of those 2 numbers"
   ]
  },
  {
   "cell_type": "code",
   "execution_count": null,
   "metadata": {},
   "outputs": [],
   "source": [
    "def find_gcd(a, b):\n",
    "    while b:\n",
    "        a, b = b, a % b\n",
    "    return a\n",
    "\n",
    "def find_lcm(a, b):\n",
    "    return abs(a * b) // find_gcd(a, b)\n",
    "\n",
    "def main():\n",
    "    try:\n",
    "        num1 = int(input(\"Enter the first number: \"))\n",
    "        num2 = int(input(\"Enter the second number: \"))\n",
    "        \n",
    "        lcm = find_lcm(num1, num2)\n",
    "        print(\"The LCM of\", num1, \"and\", num2, \"is:\", lcm)\n",
    "    except ValueError:\n",
    "        print(\"Invalid input. Please enter valid integers.\")\n",
    "\n",
    "if __name__ == \"__main__\":\n",
    "    main()\n"
   ]
  },
  {
   "cell_type": "markdown",
   "metadata": {},
   "source": [
    "### Write a program that can find the factorial of a given number provided by the user"
   ]
  },
  {
   "cell_type": "code",
   "execution_count": 24,
   "metadata": {},
   "outputs": [],
   "source": [
    "def factorial_n(n):\n",
    "    fact = 1\n",
    "    if n < 0:\n",
    "        print(\"factorial dont exist for negative number\")\n",
    "    elif n==0:\n",
    "        print(\"for zero factorial is always one\")\n",
    "    else:\n",
    "        for i in range(1,n+1):\n",
    "            fact *= i\n",
    "        return fact"
   ]
  },
  {
   "cell_type": "code",
   "execution_count": 27,
   "metadata": {},
   "outputs": [
    {
     "data": {
      "text/plain": [
       "120"
      ]
     },
     "execution_count": 27,
     "metadata": {},
     "output_type": "execute_result"
    }
   ],
   "source": [
    "factorial_n(5)"
   ]
  },
  {
   "cell_type": "markdown",
   "metadata": {},
   "source": [
    "Write a program to count the total number of digits in a number using a while loop."
   ]
  },
  {
   "cell_type": "code",
   "execution_count": null,
   "metadata": {},
   "outputs": [],
   "source": [
    "def count_digit(numbers):\n",
    "    count = 0\n",
    "    while numbers !=0:\n",
    "        numbers//=10\n",
    "        count +=1\n",
    "    return count\n",
    "\n",
    "\n",
    "\n"
   ]
  },
  {
   "cell_type": "code",
   "execution_count": 7,
   "metadata": {},
   "outputs": [],
   "source": [
    "count_digit(2345)"
   ]
  },
  {
   "cell_type": "markdown",
   "metadata": {},
   "source": [
    "### Write a program that keeps on accepting a number from the user until the user enters Zero. Display the sum and average of all the numbers."
   ]
  },
  {
   "cell_type": "code",
   "execution_count": 4,
   "metadata": {},
   "outputs": [
    {
     "name": "stdout",
     "output_type": "stream",
     "text": [
      "Thank you\n",
      "your sum is: 643\n",
      "your avg is: 321.5\n"
     ]
    }
   ],
   "source": [
    " n=int(input(\"enter the number: \"))\n",
    " total=0\n",
    " avg=0\n",
    " count=0\n",
    " while True:\n",
    "    if n != 0:\n",
    "        total=total+n\n",
    "        count +=1\n",
    "        avg=total/count\n",
    "        n=int(input(\"print another number: \"))\n",
    "    else:\n",
    "        print(\"Thank you\")\n",
    "        break\n",
    " print(\"your sum is:\",total)\n",
    " print(\"your avg is:\",round(avg,2))\n"
   ]
  },
  {
   "cell_type": "markdown",
   "metadata": {},
   "source": [
    "### Write a program to print the first 25 odd numbers"
   ]
  },
  {
   "cell_type": "code",
   "execution_count": 27,
   "metadata": {},
   "outputs": [],
   "source": [
    "def first_25_oddnum(num):\n",
    "    count = 0\n",
    "    odd_list = []\n",
    "    for i in range(1,num+1):\n",
    "        if i%2!=0:\n",
    "            odd_list.append(i)\n",
    "            count +=1\n",
    "        if count >25:\n",
    "            break\n",
    "            \n",
    "    return odd_list\n"
   ]
  },
  {
   "cell_type": "code",
   "execution_count": 29,
   "metadata": {},
   "outputs": [
    {
     "name": "stdout",
     "output_type": "stream",
     "text": [
      "[1, 3, 5, 7, 9, 11, 13, 15, 17, 19, 21, 23, 25, 27, 29, 31, 33, 35, 37, 39, 41, 43, 45, 47, 49, 51]\n"
     ]
    }
   ],
   "source": [
    "print(first_25_oddnum(2000))"
   ]
  },
  {
   "cell_type": "markdown",
   "metadata": {},
   "source": [
    "### Write a program to display all prime numbers within a range"
   ]
  },
  {
   "cell_type": "code",
   "execution_count": 34,
   "metadata": {},
   "outputs": [],
   "source": []
  },
  {
   "cell_type": "code",
   "execution_count": 35,
   "metadata": {},
   "outputs": [
    {
     "data": {
      "text/plain": [
       "True"
      ]
     },
     "execution_count": 35,
     "metadata": {},
     "output_type": "execute_result"
    }
   ],
   "source": [
    "is_prime(5)"
   ]
  },
  {
   "cell_type": "code",
   "execution_count": 46,
   "metadata": {},
   "outputs": [],
   "source": [
    "def is_prime(num):\n",
    "    if num<2:\n",
    "        return False\n",
    "    else:\n",
    "        for i in range(2,int(num**0.5)+1):\n",
    "            if num % i ==0:\n",
    "                return False\n",
    "        return True\n",
    "def prime_in_range(start,end):\n",
    "    prime_list = []\n",
    "    for i in range(start,end+1):\n",
    "        if is_prime(i):\n",
    "            prime_list.append(i)\n",
    "    return prime_list"
   ]
  },
  {
   "cell_type": "code",
   "execution_count": 47,
   "metadata": {},
   "outputs": [
    {
     "data": {
      "text/plain": [
       "[11, 13, 17, 19]"
      ]
     },
     "execution_count": 47,
     "metadata": {},
     "output_type": "execute_result"
    }
   ],
   "source": [
    "prime_in_range(10,20)"
   ]
  },
  {
   "cell_type": "markdown",
   "metadata": {},
   "source": [
    "### Display Fibonacci series up to 10 terms\n",
    " The Fibonacci Sequence is a series of numbers. The next number is found by adding up the two\n",
    " numbers before it. The first two numbers are 0 and 1."
   ]
  },
  {
   "cell_type": "code",
   "execution_count": 14,
   "metadata": {},
   "outputs": [],
   "source": [
    "def Fibonacci_series(num):\n",
    "    a = 0\n",
    "    b = 1\n",
    "    for i in range(num):\n",
    "        num3 = a+b\n",
    "        a = b\n",
    "        b= a + b\n",
    "    return num3"
   ]
  },
  {
   "cell_type": "code",
   "execution_count": 16,
   "metadata": {},
   "outputs": [
    {
     "name": "stdout",
     "output_type": "stream",
     "text": [
      "Fibonacci series up to 10 terms:\n",
      "[0, 1, 1, 2, 3, 5, 8, 13, 21, 34]\n"
     ]
    }
   ],
   "source": [
    "def Fibonacci_series(num):\n",
    "    a, b = 0, 1\n",
    "    fib_list = []\n",
    "    for i in range(num):\n",
    "        fib_list.append(a)\n",
    "        a, b = b, a + b  # Update a and b for the next iteration\n",
    "    return fib_list\n",
    "\n",
    "# Test the function with num = 10\n",
    "result = Fibonacci_series(10)\n",
    "print(\"Fibonacci series up to 10 terms:\")\n",
    "print(result)\n"
   ]
  },
  {
   "cell_type": "code",
   "execution_count": 15,
   "metadata": {},
   "outputs": [
    {
     "data": {
      "text/plain": [
       "768"
      ]
     },
     "execution_count": 15,
     "metadata": {},
     "output_type": "execute_result"
    }
   ],
   "source": []
  },
  {
   "cell_type": "markdown",
   "metadata": {},
   "source": [
    " Use a loop to display elements from a given list present at odd index positions\n",
    " "
   ]
  },
  {
   "cell_type": "code",
   "execution_count": 2,
   "metadata": {},
   "outputs": [
    {
     "name": "stdout",
     "output_type": "stream",
     "text": [
      "[10, 30, 50, 70, 90]\n"
     ]
    }
   ],
   "source": [
    "my_list = [10, 20, 30, 40, 50, 60, 70, 80, 90, 100]\n",
    "print(my_list[::2])"
   ]
  },
  {
   "cell_type": "markdown",
   "metadata": {},
   "source": [
    "### Write a program to calculate the sum of series up to n term.\n",
    " For example, if n =5 the series will become 2 + 22 + 222 + 2222 + 22222 = 24690"
   ]
  },
  {
   "cell_type": "code",
   "execution_count": 8,
   "metadata": {},
   "outputs": [],
   "source": [
    "def sum_series(n):\n",
    "    digit = 2\n",
    "    current_digit = 0\n",
    "    sum_digit = 0\n",
    "    for i in range(n):\n",
    "        current_digit = (current_digit*10)+digit\n",
    "        sum_digit +=current_digit\n",
    "    return sum_digit"
   ]
  },
  {
   "cell_type": "code",
   "execution_count": 9,
   "metadata": {},
   "outputs": [
    {
     "data": {
      "text/plain": [
       "24690"
      ]
     },
     "execution_count": 9,
     "metadata": {},
     "output_type": "execute_result"
    }
   ],
   "source": [
    "sum_series(5)"
   ]
  },
  {
   "cell_type": "markdown",
   "metadata": {},
   "source": [
    "###  Write a function called exponent(base, exp) that returns an int value of base raises to thepower of exp."
   ]
  },
  {
   "cell_type": "code",
   "execution_count": 10,
   "metadata": {},
   "outputs": [],
   "source": [
    "def exponent(base,exp):\n",
    "    result = 1\n",
    "    for _ in range(exp):\n",
    "        result*=base\n",
    "    return result"
   ]
  },
  {
   "cell_type": "code",
   "execution_count": 11,
   "metadata": {},
   "outputs": [
    {
     "data": {
      "text/plain": [
       "8"
      ]
     },
     "execution_count": 11,
     "metadata": {},
     "output_type": "execute_result"
    }
   ],
   "source": [
    "exponent(2,3)"
   ]
  },
  {
   "cell_type": "code",
   "execution_count": 12,
   "metadata": {},
   "outputs": [],
   "source": [
    "### using recursion\n",
    "def exponent_r(base, exp):\n",
    "    if exp == 0:\n",
    "        return 1\n",
    "    elif exp == 1:\n",
    "        return base\n",
    "    else:\n",
    "        return base * exponent(base, exp - 1)"
   ]
  },
  {
   "cell_type": "code",
   "execution_count": 13,
   "metadata": {},
   "outputs": [
    {
     "data": {
      "text/plain": [
       "8"
      ]
     },
     "execution_count": 13,
     "metadata": {},
     "output_type": "execute_result"
    }
   ],
   "source": [
    "exponent_r(2,3)"
   ]
  },
  {
   "cell_type": "markdown",
   "metadata": {},
   "source": [
    "### :Given two integer numbers return their product only if the product is equal to or lower than 1000, else return their sum."
   ]
  },
  {
   "cell_type": "code",
   "execution_count": 19,
   "metadata": {},
   "outputs": [],
   "source": [
    "def product_of_2num(num1,num2):\n",
    "    product = num1 * num2\n",
    "    if product <= 1000:\n",
    "        return product\n",
    "    else:\n",
    "        print(f\" product of {num1} and {num2} is greater than 1000\")"
   ]
  },
  {
   "cell_type": "code",
   "execution_count": 20,
   "metadata": {},
   "outputs": [
    {
     "name": "stdout",
     "output_type": "stream",
     "text": [
      " product of 200 and 30 is greater than 1000\n"
     ]
    }
   ],
   "source": [
    "product_of_2num(200,30)"
   ]
  },
  {
   "cell_type": "markdown",
   "metadata": {},
   "source": [
    "#  Create a recursive function"
   ]
  },
  {
   "cell_type": "markdown",
   "metadata": {},
   "source": [
    "### Write a program to create a recursive function to calculate the sum of numbers from 0 to 10."
   ]
  },
  {
   "cell_type": "code",
   "execution_count": 21,
   "metadata": {},
   "outputs": [],
   "source": [
    "def rec_sum(num):\n",
    "    if num == 0:\n",
    "        return 0\n",
    "    else :\n",
    "        return num + rec_sum(num-1)\n"
   ]
  },
  {
   "cell_type": "code",
   "execution_count": 23,
   "metadata": {},
   "outputs": [
    {
     "data": {
      "text/plain": [
       "55"
      ]
     },
     "execution_count": 23,
     "metadata": {},
     "output_type": "execute_result"
    }
   ],
   "source": [
    "rec_sum(10)"
   ]
  },
  {
   "cell_type": "markdown",
   "metadata": {},
   "source": [
    "###  Find the largest item from a given list"
   ]
  },
  {
   "cell_type": "code",
   "execution_count": 28,
   "metadata": {},
   "outputs": [
    {
     "name": "stdout",
     "output_type": "stream",
     "text": [
      "65\n"
     ]
    }
   ],
   "source": [
    "def largest_num(list1):\n",
    "    return max(list1)\n",
    "\n",
    "# Test the function\n",
    "print(largest_num([4, 6, 8, 24, 12, 2, 65]))\n"
   ]
  },
  {
   "cell_type": "code",
   "execution_count": 30,
   "metadata": {},
   "outputs": [
    {
     "name": "stdout",
     "output_type": "stream",
     "text": [
      "65\n"
     ]
    }
   ],
   "source": [
    "def largest_num1(list1):\n",
    "    sorted_list = sorted(list1,reverse=True)\n",
    "    return sorted_list[0]\n",
    "\n",
    "# Test the function\n",
    "print(largest_num1([4, 6, 8, 24, 12, 2, 65]))"
   ]
  },
  {
   "cell_type": "code",
   "execution_count": null,
   "metadata": {},
   "outputs": [],
   "source": []
  }
 ],
 "metadata": {
  "kernelspec": {
   "display_name": "Python 3",
   "language": "python",
   "name": "python3"
  },
  "language_info": {
   "codemirror_mode": {
    "name": "ipython",
    "version": 3
   },
   "file_extension": ".py",
   "mimetype": "text/x-python",
   "name": "python",
   "nbconvert_exporter": "python",
   "pygments_lexer": "ipython3",
   "version": "3.12.1"
  }
 },
 "nbformat": 4,
 "nbformat_minor": 2
}
