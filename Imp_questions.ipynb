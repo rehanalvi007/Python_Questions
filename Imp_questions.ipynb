{
 "cells": [
  {
   "cell_type": "markdown",
   "metadata": {},
   "source": [
    "### 1.Reverse an Array:\n"
   ]
  },
  {
   "cell_type": "code",
   "execution_count": 1,
   "metadata": {},
   "outputs": [],
   "source": [
    "# First method\n",
    "def reverse_str(string):\n",
    "    return string[::-1]"
   ]
  },
  {
   "cell_type": "code",
   "execution_count": 2,
   "metadata": {},
   "outputs": [
    {
     "data": {
      "text/plain": [
       "[98, 78, 56, 23]"
      ]
     },
     "execution_count": 2,
     "metadata": {},
     "output_type": "execute_result"
    }
   ],
   "source": [
    "reverse_str([23,56,78,98])"
   ]
  },
  {
   "cell_type": "code",
   "execution_count": 3,
   "metadata": {},
   "outputs": [
    {
     "name": "stdout",
     "output_type": "stream",
     "text": [
      "[98, 78, 56, 23]\n"
     ]
    }
   ],
   "source": [
    "# second method\n",
    "stringss = [23,56,78,98]\n",
    "rev_list = []\n",
    "for i in stringss:\n",
    "    rev_list.append(i)\n",
    "print(list(reversed(rev_list)))\n"
   ]
  },
  {
   "cell_type": "code",
   "execution_count": 4,
   "metadata": {},
   "outputs": [
    {
     "name": "stdout",
     "output_type": "stream",
     "text": [
      "[2, 3]\n"
     ]
    }
   ],
   "source": [
    "def find_duplicates(arr):\n",
    "    seen = set()\n",
    "    duplicates = set()\n",
    "    \n",
    "    for num in arr:\n",
    "        if num in seen:\n",
    "            duplicates.add(num)\n",
    "        else:\n",
    "            seen.add(num)\n",
    "    \n",
    "    return list(duplicates)\n",
    "\n",
    "# Example usage:\n",
    "arr = [1, 2, 3, 4, 2, 5, 3]\n",
    "duplicate_elements = find_duplicates(arr)\n",
    "print(duplicate_elements)  # Output: [2, 3]"
   ]
  },
  {
   "cell_type": "code",
   "execution_count": 5,
   "metadata": {},
   "outputs": [
    {
     "name": "stdout",
     "output_type": "stream",
     "text": [
      "5\n"
     ]
    }
   ],
   "source": [
    "# Find missing\n",
    "def find_missing_number(arr):\n",
    "    n = len(arr) + 1\n",
    "    total = n * (n + 1) // 2\n",
    "    array_sum = sum(arr)\n",
    "    return total - array_sum\n",
    "\n",
    "# Example usage:\n",
    "arr = [1, 2, 3, 4, 6, 7]\n",
    "missing_number = find_missing_number(arr)\n",
    "print(missing_number)  # Output: 4\n"
   ]
  },
  {
   "cell_type": "code",
   "execution_count": 4,
   "metadata": {},
   "outputs": [
    {
     "data": {
      "text/plain": [
       "False"
      ]
     },
     "execution_count": 4,
     "metadata": {},
     "output_type": "execute_result"
    }
   ],
   "source": [
    "# Check if a String is a Palindrome:\n",
    "def is_palindrom(s):\n",
    "    return s == s[::-1]\n",
    "                  \n",
    "is_palindrom(\"rehan\")"
   ]
  },
  {
   "cell_type": "code",
   "execution_count": 6,
   "metadata": {},
   "outputs": [
    {
     "data": {
      "text/plain": [
       "(45, 12)"
      ]
     },
     "execution_count": 6,
     "metadata": {},
     "output_type": "execute_result"
    }
   ],
   "source": [
    "#Write a Python program to swap two variables.\n",
    "def swap_2Variable(a,b):\n",
    "    return b,a\n",
    "swap_2Variable(12,45)"
   ]
  },
  {
   "cell_type": "code",
   "execution_count": 6,
   "metadata": {},
   "outputs": [
    {
     "name": "stdout",
     "output_type": "stream",
     "text": [
      "(7, 5)\n"
     ]
    }
   ],
   "source": [
    "#2nd method\n",
    "swap_var = lambda a,b : (b,a)\n",
    "print(swap_var(5,7))"
   ]
  },
  {
   "cell_type": "code",
   "execution_count": 13,
   "metadata": {},
   "outputs": [],
   "source": [
    "# 3rd method using For Loop\n",
    "def swap_values_with_loop(a, b):\n",
    "    for _ in [None]:\n",
    "        a,b = b,a\n",
    "    return a , b"
   ]
  },
  {
   "cell_type": "code",
   "execution_count": 14,
   "metadata": {},
   "outputs": [
    {
     "data": {
      "text/plain": [
       "('y', 'x')"
      ]
     },
     "execution_count": 14,
     "metadata": {},
     "output_type": "execute_result"
    }
   ],
   "source": [
    "swap_values_with_loop(\"x\", \"y\")"
   ]
  },
  {
   "cell_type": "markdown",
   "metadata": {},
   "source": [
    "### Write a Python program to convert kilometers to miles."
   ]
  },
  {
   "cell_type": "code",
   "execution_count": 15,
   "metadata": {},
   "outputs": [],
   "source": [
    "def convert_km_to_miles(value):\n",
    "    return value* 0.621371\n"
   ]
  },
  {
   "cell_type": "code",
   "execution_count": 16,
   "metadata": {},
   "outputs": [
    {
     "data": {
      "text/plain": [
       "1.242742"
      ]
     },
     "execution_count": 16,
     "metadata": {},
     "output_type": "execute_result"
    }
   ],
   "source": [
    "convert_km_to_miles(2)"
   ]
  },
  {
   "cell_type": "markdown",
   "metadata": {},
   "source": [
    "Write a Python Program to Check if a Number is Odd or Even."
   ]
  },
  {
   "cell_type": "code",
   "execution_count": 17,
   "metadata": {},
   "outputs": [],
   "source": [
    "def num_is_odd(number):\n",
    "    for num in number:\n",
    "        if num% 2 != 0:\n",
    "            print(f\"The {num} is odd\")\n",
    "        else:\n",
    "            print(f\"The {num} is even\")\n"
   ]
  },
  {
   "cell_type": "code",
   "execution_count": 18,
   "metadata": {},
   "outputs": [
    {
     "name": "stdout",
     "output_type": "stream",
     "text": [
      "The 45 is odd\n",
      "The 22 is even\n"
     ]
    }
   ],
   "source": [
    "num_is_odd([45,22])"
   ]
  },
  {
   "cell_type": "code",
   "execution_count": 20,
   "metadata": {},
   "outputs": [
    {
     "name": "stdout",
     "output_type": "stream",
     "text": [
      "[1001, 33, 45]\n"
     ]
    }
   ],
   "source": [
    "# By using lambda function\n",
    "number_list = [1000,1001,22,33,45]\n",
    "odd_nums = list(filter(lambda x : x%2!=0,number_list))\n",
    "print(odd_nums)"
   ]
  },
  {
   "cell_type": "markdown",
   "metadata": {},
   "source": [
    "### Write a Python Program to Check Prime Number."
   ]
  },
  {
   "cell_type": "code",
   "execution_count": 26,
   "metadata": {},
   "outputs": [],
   "source": [
    "def checking_for_prime(num):\n",
    "    if num == 1:\n",
    "        print(\"it is not prime number\")\n",
    "    else:\n",
    "        for i in range(2,num):\n",
    "            if (num%i) == 0:\n",
    "                print(f\" {num} is not prime\")\n",
    "                break\n",
    "        else:\n",
    "            print(f\" {num} is  prime\")\n",
    "   \n"
   ]
  },
  {
   "cell_type": "code",
   "execution_count": 30,
   "metadata": {},
   "outputs": [
    {
     "name": "stdout",
     "output_type": "stream",
     "text": [
      " 6 is not prime\n"
     ]
    }
   ],
   "source": [
    "checking_for_prime(6)"
   ]
  },
  {
   "cell_type": "markdown",
   "metadata": {},
   "source": [
    "###   Write a Python Program to Print the Fibonacci sequence."
   ]
  },
  {
   "cell_type": "code",
   "execution_count": 5,
   "metadata": {},
   "outputs": [],
   "source": [
    "def Fibonacci_series(number):\n",
    "    a = 0\n",
    "    b = 1\n",
    "    fib_list = []\n",
    "    for _ in range(number):\n",
    "        fib_list.append(a)\n",
    "        a=b\n",
    "        b=a+b\n",
    "    return fib_list"
   ]
  },
  {
   "cell_type": "code",
   "execution_count": 7,
   "metadata": {},
   "outputs": [
    {
     "data": {
      "text/plain": [
       "[0, 1, 2, 4, 8, 16, 32, 64, 128, 256]"
      ]
     },
     "execution_count": 7,
     "metadata": {},
     "output_type": "execute_result"
    }
   ],
   "source": [
    "Fibonacci_series(10)"
   ]
  },
  {
   "cell_type": "code",
   "execution_count": 10,
   "metadata": {},
   "outputs": [],
   "source": [
    "# Using while loop with limit\n",
    "def fibonacci(number):\n",
    "    a,b = 0,1\n",
    "    limit = 1000\n",
    "    fib_list = []\n",
    "\n",
    "    while a < limit:\n",
    "        fib_list.append(a)\n",
    "        a,b = b, a+b\n",
    "    return fib_list\n"
   ]
  },
  {
   "cell_type": "code",
   "execution_count": 11,
   "metadata": {},
   "outputs": [
    {
     "data": {
      "text/plain": [
       "[0, 1, 1, 2, 3, 5, 8, 13, 21, 34, 55, 89, 144, 233, 377, 610, 987]"
      ]
     },
     "execution_count": 11,
     "metadata": {},
     "output_type": "execute_result"
    }
   ],
   "source": [
    "fibonacci(50)"
   ]
  },
  {
   "cell_type": "code",
   "execution_count": 1,
   "metadata": {},
   "outputs": [],
   "source": [
    "###  Write a Python Program to Display Fibonacci Sequence Using Recursion"
   ]
  },
  {
   "cell_type": "code",
   "execution_count": null,
   "metadata": {},
   "outputs": [],
   "source": [
    "def fibonacci_recursion(num):\n",
    "    return (fibonacci_recursionn)\n",
    "    "
   ]
  },
  {
   "cell_type": "markdown",
   "metadata": {},
   "source": [
    " ### Write a Python program to solve quadratic equation"
   ]
  },
  {
   "cell_type": "code",
   "execution_count": 1,
   "metadata": {},
   "outputs": [],
   "source": [
    "def solve_quadratic_eqn(a,b,c):\n",
    "    # calculate descriminant\n",
    "    descriminant = b**2 - (4*a*c)\n",
    "    # check descriminant is less than zero\n",
    "    if descriminant < 0:\n",
    "        return None # meaning no real root\n",
    "    # find two solution\n",
    "    root1 = (-b - (descriminant ** 0.5))\n",
    "    root2 = (-b + (descriminant ** 0.5))\n",
    "    return root1 ,root2"
   ]
  },
  {
   "cell_type": "code",
   "execution_count": 4,
   "metadata": {},
   "outputs": [
    {
     "name": "stdout",
     "output_type": "stream",
     "text": [
      "No real roots\n"
     ]
    }
   ],
   "source": [
    "# Input coefficients from user\n",
    "a = float(input(\"Enter coefficient a: \"))\n",
    "b = float(input(\"Enter coefficient b: \"))\n",
    "c = float(input(\"Enter coefficient c: \"))\n",
    "\n",
    "# Call the function to solve the quadratic equation\n",
    "solutions = solve_quadratic_eqn(a, b, c)\n",
    "\n",
    "# Print the solutions\n",
    "if solutions is None:\n",
    "    print(\"No real roots\")\n",
    "else:\n",
    "    print(f\"The solutions are: {solutions[0]} and {solutions[1]}\")"
   ]
  },
  {
   "cell_type": "markdown",
   "metadata": {},
   "source": [
    "###  Write a Python Program to Check Armstrong Number?\n",
    " Armstrong Number:\n",
    " It is a number that is equal to the sum of its own digits, each raised to a power equal to the\n",
    " number of digits in the number.\n"
   ]
  },
  {
   "cell_type": "code",
   "execution_count": 5,
   "metadata": {},
   "outputs": [],
   "source": [
    "def Armstrong_num(num):\n",
    "    # convert number into str\n",
    "    num_str = str(num)\n",
    "    # Now we can take out the length of the number\n",
    "    no_digit = len(num_str)\n",
    "    # Initialise an empty dict\n",
    "    arm_num = 0\n",
    "    for i in num_str:\n",
    "        arm_num += int(i) ** no_digit\n",
    "    return arm_num == num"
   ]
  },
  {
   "cell_type": "code",
   "execution_count": 7,
   "metadata": {},
   "outputs": [
    {
     "data": {
      "text/plain": [
       "False"
      ]
     },
     "execution_count": 7,
     "metadata": {},
     "output_type": "execute_result"
    }
   ],
   "source": [
    "Armstrong_num(157)"
   ]
  },
  {
   "cell_type": "markdown",
   "metadata": {},
   "source": [
    "###  Write a Python Program to Find the Sum of Natural Numbers.\n",
    " Natural numbers are a set of positive integers that are used to count and order objects.\n",
    " They are the numbers that typically start from 1 and continue indefinitely, including all the\n",
    " whole numbers greater than 0. In mathematical notation, the set of natural numbers is often\n",
    " denoted as \"N\" and can be expressed as:\n",
    " 𝑁 =1,2,3,4,5,6,7,8,..."
   ]
  },
  {
   "cell_type": "code",
   "execution_count": 9,
   "metadata": {},
   "outputs": [],
   "source": [
    "def sum_natural_num(num):\n",
    "    sum = 0\n",
    "    for i in range(1,num+1):\n",
    "        sum+=i\n",
    "    return sum\n"
   ]
  },
  {
   "cell_type": "code",
   "execution_count": 10,
   "metadata": {},
   "outputs": [
    {
     "data": {
      "text/plain": [
       "55"
      ]
     },
     "execution_count": 10,
     "metadata": {},
     "output_type": "execute_result"
    }
   ],
   "source": [
    "sum_natural_num(10)"
   ]
  },
  {
   "cell_type": "code",
   "execution_count": 15,
   "metadata": {},
   "outputs": [],
   "source": [
    "def sum_natural_numbers(num):\n",
    "    return (num*(num+1)) // 2"
   ]
  },
  {
   "cell_type": "code",
   "execution_count": 16,
   "metadata": {},
   "outputs": [
    {
     "data": {
      "text/plain": [
       "55"
      ]
     },
     "execution_count": 16,
     "metadata": {},
     "output_type": "execute_result"
    }
   ],
   "source": [
    "sum_natural_numbers(10)"
   ]
  },
  {
   "cell_type": "markdown",
   "metadata": {},
   "source": [
    "### "
   ]
  },
  {
   "cell_type": "markdown",
   "metadata": {},
   "source": [
    " ### Write a Python Program to Find LCM.\n",
    " Least Common Multiple (LCM):\n",
    " LCM, or Least Common Multiple, is the smallest multiple that is exactly divisible by two or\n",
    " more numbers.\n",
    " Formula:\n",
    " For two numbers a and b, the LCM can be found using the formula:\n",
    " C"
   ]
  },
  {
   "cell_type": "code",
   "execution_count": 18,
   "metadata": {},
   "outputs": [],
   "source": [
    "def gcd(a,b):\n",
    "    while b :\n",
    "        a,b = b, a%b\n",
    "    return a\n"
   ]
  },
  {
   "cell_type": "code",
   "execution_count": 19,
   "metadata": {},
   "outputs": [
    {
     "data": {
      "text/plain": [
       "6"
      ]
     },
     "execution_count": 19,
     "metadata": {},
     "output_type": "execute_result"
    }
   ],
   "source": [
    "gcd(12,18)"
   ]
  },
  {
   "cell_type": "code",
   "execution_count": 20,
   "metadata": {},
   "outputs": [],
   "source": [
    "def lcm(a,b):\n",
    "    return (a*b)//gcd(a,b)"
   ]
  },
  {
   "cell_type": "code",
   "execution_count": 21,
   "metadata": {},
   "outputs": [
    {
     "data": {
      "text/plain": [
       "216"
      ]
     },
     "execution_count": 21,
     "metadata": {},
     "output_type": "execute_result"
    }
   ],
   "source": [
    "lcm(54,24)"
   ]
  },
  {
   "cell_type": "markdown",
   "metadata": {},
   "source": [
    "###  Write a Python Program to Find Factorial of Number Using Recursion."
   ]
  },
  {
   "cell_type": "code",
   "execution_count": null,
   "metadata": {},
   "outputs": [],
   "source": []
  }
 ],
 "metadata": {
  "kernelspec": {
   "display_name": "Python 3",
   "language": "python",
   "name": "python3"
  },
  "language_info": {
   "codemirror_mode": {
    "name": "ipython",
    "version": 3
   },
   "file_extension": ".py",
   "mimetype": "text/x-python",
   "name": "python",
   "nbconvert_exporter": "python",
   "pygments_lexer": "ipython3",
   "version": "3.12.1"
  }
 },
 "nbformat": 4,
 "nbformat_minor": 2
}
